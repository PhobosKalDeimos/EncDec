{
  "cells": [
    {
      "cell_type": "code",
      "source": [
        "!pip install --upgrade gdown\n"
      ],
      "metadata": {
        "id": "Vm8PBRz1rDQk"
      },
      "execution_count": null,
      "outputs": []
    },
    {
      "cell_type": "code",
      "source": [
        "!git clone \"https://github.com/PhobosKalDeimos/EncDec\"\n",
        "\n",
        "#change dir\n",
        "%cd EncDec"
      ],
      "metadata": {
        "id": "uzoJca-M5kN1"
      },
      "execution_count": null,
      "outputs": []
    },
    {
      "cell_type": "code",
      "source": [
        "import gdown, os\n",
        "\n",
        "id= \"1y15557pXenUfICw4O88PEm0mqRUu3KDl\"\n",
        "out= \"./dataset.zip\"\n",
        "\n",
        "if not os.path.isdir(\"./dataset\"):\n",
        "  #gdown.download(id=id, output=out, quiet=False)\n",
        "  !gdown \"1y15557pXenUfICw4O88PEm0mqRUu3KDl\"\n",
        "  %mkdir dataset\n",
        "  !unzip -q dataset.zip -d dataset\n",
        "  !rm dataset.zip\n",
        "\n",
        "!ls -l"
      ],
      "metadata": {
        "id": "Q4UXohCC_Xnd"
      },
      "execution_count": null,
      "outputs": []
    },
    {
      "cell_type": "code",
      "execution_count": null,
      "metadata": {
        "collapsed": true,
        "id": "D5XBgDBu4J82"
      },
      "outputs": [],
      "source": [
        "# device \"cpu\" works faster on some machines\n",
        "%run train_embedded.py --dataset_folder dataset/csv_20220811/ --device \"cpu\" --epochs_num 1 --frequency 1\n"
      ]
    },
    {
      "cell_type": "code",
      "execution_count": null,
      "metadata": {
        "id": "WcPcUhNh4J85"
      },
      "outputs": [],
      "source": [
        "%run evaluate.py --dataset_folder dataset/csv_20220811/ --model_path ./checkpoints/best_model.pth --device \"cpu\" --frequency 10  --resume"
      ]
    }
  ],
  "metadata": {
    "kernelspec": {
      "display_name": "Python 3",
      "language": "python",
      "name": "python3"
    },
    "language_info": {
      "codemirror_mode": {
        "name": "ipython",
        "version": 3
      },
      "file_extension": ".py",
      "mimetype": "text/x-python",
      "name": "python",
      "nbconvert_exporter": "python",
      "pygments_lexer": "ipython3",
      "version": "3.11.0"
    },
    "colab": {
      "provenance": []
    }
  },
  "nbformat": 4,
  "nbformat_minor": 0
}